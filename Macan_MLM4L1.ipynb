{
  "nbformat": 4,
  "nbformat_minor": 0,
  "metadata": {
    "colab": {
      "provenance": [],
      "authorship_tag": "ABX9TyOEqXn7T1PBQGF0ThPf0CTF",
      "include_colab_link": true
    },
    "kernelspec": {
      "name": "python3",
      "display_name": "Python 3"
    },
    "language_info": {
      "name": "python"
    }
  },
  "cells": [
    {
      "cell_type": "markdown",
      "metadata": {
        "id": "view-in-github",
        "colab_type": "text"
      },
      "source": [
        "<a href=\"https://colab.research.google.com/github/KnzMcn/Machine-Learning/blob/main/Macan_MLM4L1.ipynb\" target=\"_parent\"><img src=\"https://colab.research.google.com/assets/colab-badge.svg\" alt=\"Open In Colab\"/></a>"
      ]
    },
    {
      "cell_type": "markdown",
      "source": [
        "**INSTRUCTIONS:** Explore the process of building an artificial neural network for regression."
      ],
      "metadata": {
        "id": "GpdvJAb_NZkj"
      }
    },
    {
      "cell_type": "code",
      "source": [
        "#@title Default title text\n"
      ],
      "metadata": {
        "id": "PvgZF371Nk-C"
      },
      "execution_count": null,
      "outputs": []
    }
  ]
}