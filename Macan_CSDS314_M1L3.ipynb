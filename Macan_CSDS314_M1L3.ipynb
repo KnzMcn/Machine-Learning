{
 "cells": [
  {
   "cell_type": "markdown",
   "metadata": {},
   "source": [
    "INSTRUCTIONS: Going back to our table in the activity aove, try transforming the data by handling the missing values. Since all the data are numebric, no encoding of categorical data is needed. You try also applying feature scaling using both normalization and standardization techniques. Print out the values to see the effects of these preprocessing techniques."
   ]
  },
  {
   "cell_type": "markdown",
   "metadata": {},
   "source": [
    "# Importing necessary packages"
   ]
  },
  {
   "cell_type": "code",
   "execution_count": 3,
   "metadata": {},
   "outputs": [],
   "source": [
    "import numpy as np\n",
    "import matplotlib.pyplot as plt\n",
    "import pandas as pd"
   ]
  },
  {
   "cell_type": "markdown",
   "metadata": {},
   "source": [
    "# Importing the dataset"
   ]
  },
  {
   "cell_type": "code",
   "execution_count": 4,
   "metadata": {},
   "outputs": [
    {
     "data": {
      "text/html": [
       "<div>\n",
       "<style scoped>\n",
       "    .dataframe tbody tr th:only-of-type {\n",
       "        vertical-align: middle;\n",
       "    }\n",
       "\n",
       "    .dataframe tbody tr th {\n",
       "        vertical-align: top;\n",
       "    }\n",
       "\n",
       "    .dataframe thead th {\n",
       "        text-align: right;\n",
       "    }\n",
       "</style>\n",
       "<table border=\"1\" class=\"dataframe\">\n",
       "  <thead>\n",
       "    <tr style=\"text-align: right;\">\n",
       "      <th></th>\n",
       "      <th>Grill temp. (Fahreinheit)</th>\n",
       "      <th>Weight of beef patty (lb)</th>\n",
       "      <th>Burger rating (out of 10)</th>\n",
       "    </tr>\n",
       "  </thead>\n",
       "  <tbody>\n",
       "    <tr>\n",
       "      <th>0</th>\n",
       "      <td>NaN</td>\n",
       "      <td>0.33</td>\n",
       "      <td>8.2</td>\n",
       "    </tr>\n",
       "    <tr>\n",
       "      <th>1</th>\n",
       "      <td>NaN</td>\n",
       "      <td>0.24</td>\n",
       "      <td>5.6</td>\n",
       "    </tr>\n",
       "    <tr>\n",
       "      <th>2</th>\n",
       "      <td>550.0</td>\n",
       "      <td>NaN</td>\n",
       "      <td>7.8</td>\n",
       "    </tr>\n",
       "    <tr>\n",
       "      <th>3</th>\n",
       "      <td>725.0</td>\n",
       "      <td>0.45</td>\n",
       "      <td>9.4</td>\n",
       "    </tr>\n",
       "    <tr>\n",
       "      <th>4</th>\n",
       "      <td>600.0</td>\n",
       "      <td>NaN</td>\n",
       "      <td>8.2</td>\n",
       "    </tr>\n",
       "    <tr>\n",
       "      <th>5</th>\n",
       "      <td>625.0</td>\n",
       "      <td>NaN</td>\n",
       "      <td>6.8</td>\n",
       "    </tr>\n",
       "    <tr>\n",
       "      <th>6</th>\n",
       "      <td>NaN</td>\n",
       "      <td>0.49</td>\n",
       "      <td>4.2</td>\n",
       "    </tr>\n",
       "  </tbody>\n",
       "</table>\n",
       "</div>"
      ],
      "text/plain": [
       "   Grill temp. (Fahreinheit)  Weight of beef patty (lb)  \\\n",
       "0                        NaN                       0.33   \n",
       "1                        NaN                       0.24   \n",
       "2                      550.0                        NaN   \n",
       "3                      725.0                       0.45   \n",
       "4                      600.0                        NaN   \n",
       "5                      625.0                        NaN   \n",
       "6                        NaN                       0.49   \n",
       "\n",
       "   Burger rating (out of 10)  \n",
       "0                        8.2  \n",
       "1                        5.6  \n",
       "2                        7.8  \n",
       "3                        9.4  \n",
       "4                        8.2  \n",
       "5                        6.8  \n",
       "6                        4.2  "
      ]
     },
     "execution_count": 4,
     "metadata": {},
     "output_type": "execute_result"
    }
   ],
   "source": [
    "#import the dataset using .read_csv\n",
    "dataset = pd.read_csv('Data.csv')\n",
    "dataset"
   ]
  },
  {
   "cell_type": "code",
   "execution_count": 5,
   "metadata": {},
   "outputs": [],
   "source": [
    "#locate the rows and columns of the input set\n",
    "X = dataset.iloc[:, :-1].values\n",
    "\n",
    "#locate the rows of the output set or the last columns\n",
    "y = dataset.iloc[:, -1].values"
   ]
  },
  {
   "cell_type": "code",
   "execution_count": 6,
   "metadata": {},
   "outputs": [
    {
     "name": "stdout",
     "output_type": "stream",
     "text": [
      "[[     nan 3.30e-01]\n",
      " [     nan 2.40e-01]\n",
      " [5.50e+02      nan]\n",
      " [7.25e+02 4.50e-01]\n",
      " [6.00e+02      nan]\n",
      " [6.25e+02      nan]\n",
      " [     nan 4.90e-01]]\n"
     ]
    }
   ],
   "source": [
    "#print the contents of X\n",
    "print(X)"
   ]
  },
  {
   "cell_type": "code",
   "execution_count": 7,
   "metadata": {},
   "outputs": [
    {
     "name": "stdout",
     "output_type": "stream",
     "text": [
      "[8.2 5.6 7.8 9.4 8.2 6.8 4.2]\n"
     ]
    }
   ],
   "source": [
    "#print the contents of y\n",
    "print(y)"
   ]
  },
  {
   "cell_type": "markdown",
   "metadata": {},
   "source": [
    "# Handling of the missing data"
   ]
  },
  {
   "cell_type": "code",
   "execution_count": 8,
   "metadata": {},
   "outputs": [],
   "source": [
    "#import the package responsible for giving a theoretical value to an unknown one\n",
    "from sklearn.impute import SimpleImputer\n",
    "\n",
    "#decide which imputing strategy to use \n",
    "#first parameter means to replace all missing values\n",
    "imputer = SimpleImputer(missing_values=np.nan, strategy = 'mean')\n",
    "imputer.fit(X)\n",
    "\n",
    "#impute all the missing data in the dataset\n",
    "#no specifications since we don't have any strings in the dataset\n",
    "X = imputer.transform(X)"
   ]
  },
  {
   "cell_type": "code",
   "execution_count": 9,
   "metadata": {},
   "outputs": [
    {
     "name": "stdout",
     "output_type": "stream",
     "text": [
      "[[6.250e+02 3.300e-01]\n",
      " [6.250e+02 2.400e-01]\n",
      " [5.500e+02 3.775e-01]\n",
      " [7.250e+02 4.500e-01]\n",
      " [6.000e+02 3.775e-01]\n",
      " [6.250e+02 3.775e-01]\n",
      " [6.250e+02 4.900e-01]]\n"
     ]
    }
   ],
   "source": [
    "#print the new imputed dataset\n",
    "print(X)"
   ]
  },
  {
   "cell_type": "markdown",
   "metadata": {},
   "source": [
    "# Feature Scaling"
   ]
  },
  {
   "cell_type": "code",
   "execution_count": 10,
   "metadata": {},
   "outputs": [
    {
     "name": "stdout",
     "output_type": "stream",
     "text": [
      "[[6.250e+02 2.400e-01]\n",
      " [6.250e+02 3.300e-01]\n",
      " [6.000e+02 3.775e-01]\n",
      " [7.250e+02 4.500e-01]\n",
      " [6.250e+02 3.775e-01]]\n"
     ]
    }
   ],
   "source": [
    "#split the data into sets\n",
    "from sklearn.model_selection import train_test_split\n",
    "\n",
    "#test_size = 0.2 is like we leave out 20% of the dataset for the testing\n",
    "X_train, X_test, y_train, y_test = train_test_split(X, y, test_size = 0.2, random_state = 1)\n",
    "X_train2, X_test2, y_train2, y_test2 = train_test_split(X, y, test_size = 0.2, random_state = 1)\n",
    "\n",
    "print(X_train)"
   ]
  },
  {
   "cell_type": "code",
   "execution_count": 11,
   "metadata": {},
   "outputs": [],
   "source": [
    "#applying standardization on dataset\n",
    "#import the necessary tools\n",
    "from sklearn.preprocessing import StandardScaler\n",
    "sc = StandardScaler()\n",
    "\n",
    "#values will be according to the input values\n",
    "X_train = sc.fit_transform(X_train)\n",
    "X_test = sc.transform(X_test)"
   ]
  },
  {
   "cell_type": "code",
   "execution_count": 17,
   "metadata": {},
   "outputs": [],
   "source": [
    "#applying normalization on dataset\n",
    "#import the necessary tools\n",
    "from sklearn.preprocessing import MinMaxScaler\n",
    "scaler = MinMaxScaler()\n",
    "\n",
    "#fit computes the minimum and maximum for later scaling\n",
    "#transform means to scale the features of X according to feature range\n",
    "X_train2 = scaler.fit_transform(X_train2)\n",
    "X_test2 = scaler.transform(X_test2)"
   ]
  },
  {
   "cell_type": "markdown",
   "metadata": {},
   "source": [
    "# Results"
   ]
  },
  {
   "cell_type": "code",
   "execution_count": 18,
   "metadata": {},
   "outputs": [
    {
     "name": "stdout",
     "output_type": "stream",
     "text": [
      "[[-0.3441236  -1.6637861 ]\n",
      " [-0.3441236  -0.36169263]\n",
      " [-0.91766294  0.32552337]\n",
      " [ 1.95003374  1.374432  ]\n",
      " [-0.3441236   0.32552337]]\n"
     ]
    }
   ],
   "source": [
    "#print the results for standardization\n",
    "print(X_train)"
   ]
  },
  {
   "cell_type": "code",
   "execution_count": 19,
   "metadata": {},
   "outputs": [
    {
     "name": "stdout",
     "output_type": "stream",
     "text": [
      "[[-0.3441236   1.95314021]\n",
      " [-2.0647416   0.32552337]]\n"
     ]
    }
   ],
   "source": [
    "print(X_test)"
   ]
  },
  {
   "cell_type": "code",
   "execution_count": 20,
   "metadata": {},
   "outputs": [
    {
     "name": "stdout",
     "output_type": "stream",
     "text": [
      "[[0.2        0.        ]\n",
      " [0.2        0.42857143]\n",
      " [0.         0.6547619 ]\n",
      " [1.         1.        ]\n",
      " [0.2        0.6547619 ]]\n"
     ]
    }
   ],
   "source": [
    "#print the results for normalization\n",
    "print(X_train2)"
   ]
  },
  {
   "cell_type": "code",
   "execution_count": 21,
   "metadata": {},
   "outputs": [
    {
     "name": "stdout",
     "output_type": "stream",
     "text": [
      "[[ 0.2         1.19047619]\n",
      " [-0.4         0.6547619 ]]\n"
     ]
    }
   ],
   "source": [
    "print(X_test2)"
   ]
  }
 ],
 "metadata": {
  "kernelspec": {
   "display_name": "Python 3",
   "language": "python",
   "name": "python3"
  },
  "language_info": {
   "codemirror_mode": {
    "name": "ipython",
    "version": 3
   },
   "file_extension": ".py",
   "mimetype": "text/x-python",
   "name": "python",
   "nbconvert_exporter": "python",
   "pygments_lexer": "ipython3",
   "version": "3.8.5"
  }
 },
 "nbformat": 4,
 "nbformat_minor": 4
}
