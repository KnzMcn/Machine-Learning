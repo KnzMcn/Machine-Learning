{
  "nbformat": 4,
  "nbformat_minor": 0,
  "metadata": {
    "colab": {
      "provenance": [],
      "authorship_tag": "ABX9TyPWDW7gcjEpabL3C521uv+C",
      "include_colab_link": true
    },
    "kernelspec": {
      "name": "python3",
      "display_name": "Python 3"
    },
    "language_info": {
      "name": "python"
    }
  },
  "cells": [
    {
      "cell_type": "markdown",
      "metadata": {
        "id": "view-in-github",
        "colab_type": "text"
      },
      "source": [
        "<a href=\"https://colab.research.google.com/github/KnzMcn/Machine-Learning/blob/main/Macan_ML_M4L2.ipynb\" target=\"_parent\"><img src=\"https://colab.research.google.com/assets/colab-badge.svg\" alt=\"Open In Colab\"/></a>"
      ]
    },
    {
      "cell_type": "markdown",
      "source": [
        "**INSTRUCTIONS:** Try to experiment the CNN that we built in this lesson by tweaking the default values. Compare its performance with the original model. \n",
        "\n",
        "\n",
        "---\n",
        "\n",
        "**CONCLUSION:** The original model takes much time during training compared to the new model. Aside from that, although the accuracy for the original model is high, it overfit. Higher validation loss and lower training loss pertains to overfitting. The new model, however, had a lower accuracy but it had a better fit than the original one."
      ],
      "metadata": {
        "id": "DKrCujQziBus"
      }
    },
    {
      "cell_type": "markdown",
      "metadata": {
        "id": "85a471f1"
      },
      "source": [
        "# Import the libraries"
      ]
    },
    {
      "cell_type": "code",
      "execution_count": 47,
      "metadata": {
        "id": "e45cc202"
      },
      "outputs": [],
      "source": [
        "import numpy as np\n",
        "import matplotlib.pyplot as plt\n",
        "import pandas as pd\n",
        "\n",
        "from google.colab import drive\n",
        "import zipfile\n",
        "import os\n",
        "from PIL import Image\n",
        "\n",
        "from keras.layers import Dense, Conv2D, Flatten, MaxPooling2D\n",
        "from keras.models import Sequential\n",
        "from keras.preprocessing.image import ImageDataGenerator\n",
        "import keras.utils as image"
      ]
    },
    {
      "cell_type": "markdown",
      "metadata": {
        "id": "fff70e17"
      },
      "source": [
        "# Import the dataset"
      ]
    },
    {
      "cell_type": "code",
      "execution_count": 2,
      "metadata": {
        "colab": {
          "base_uri": "https://localhost:8080/"
        },
        "id": "5b3b14df",
        "outputId": "ab408d38-9b65-4cfa-e1da-6498619f4139"
      },
      "outputs": [
        {
          "output_type": "stream",
          "name": "stdout",
          "text": [
            "Mounted at /content/drive\n"
          ]
        }
      ],
      "source": [
        "#using Gdrive to import the dataset into Google Colab\n",
        "#will ask for authorization\n",
        "drive.mount('/content/drive')"
      ]
    },
    {
      "cell_type": "code",
      "execution_count": 6,
      "metadata": {
        "id": "9z3V934Dhy-P"
      },
      "outputs": [],
      "source": [
        "#unzip the desired folder and extract the contents into the tmp folder\n",
        "#edit the first one depending on where the zipfile is stored in your Gdrive\n",
        "zip_ref = zipfile.ZipFile('/content/drive/MyDrive/3rd year/Machine Learning/cnn-image-classification-master.zip', 'r') #Opens the file in read mode\n",
        "zip_ref.extractall('/tmp/CatDog/')\n",
        "zip_ref.close()"
      ]
    },
    {
      "cell_type": "code",
      "source": [
        "#generates training images from directory\n",
        "train_datagen = ImageDataGenerator(rescale = 1./255, \n",
        "                                   shear_range = 0.2, \n",
        "                                   zoom_range = 0.2, \n",
        "                                   horizontal_flip = True)\n",
        "\n",
        "#takes training images from directory\n",
        "training_set = train_datagen.flow_from_directory('/tmp/CatDog/cnn-image-classification-master/dataset/training_set',\n",
        "                                                 target_size = (64, 64), \n",
        "                                                 batch_size = 32, \n",
        "                                                 class_mode = 'binary')"
      ],
      "metadata": {
        "colab": {
          "base_uri": "https://localhost:8080/"
        },
        "id": "CosO0Gesao0h",
        "outputId": "4179a31f-c293-4e51-89a3-22339a82f288"
      },
      "execution_count": 10,
      "outputs": [
        {
          "output_type": "stream",
          "name": "stdout",
          "text": [
            "Found 8000 images belonging to 2 classes.\n"
          ]
        }
      ]
    },
    {
      "cell_type": "code",
      "source": [
        "#generates training images from directory\n",
        "test_datagen = ImageDataGenerator(rescale = 1./255)\n",
        "\n",
        "#takes training images from directory\n",
        "test_set = train_datagen.flow_from_directory('/tmp/CatDog/cnn-image-classification-master/dataset/test_set',\n",
        "                                              target_size = (64, 64), \n",
        "                                              batch_size = 32, \n",
        "                                              class_mode = 'binary')\n",
        "\n",
        "#/tmp/CatDog/cnn-image-classification-master/dataset"
      ],
      "metadata": {
        "colab": {
          "base_uri": "https://localhost:8080/"
        },
        "id": "ycbuy18AcfBd",
        "outputId": "ef8f1ee3-378a-465a-a66d-7a71b9d56edf"
      },
      "execution_count": 11,
      "outputs": [
        {
          "output_type": "stream",
          "name": "stdout",
          "text": [
            "Found 2000 images belonging to 2 classes.\n"
          ]
        }
      ]
    },
    {
      "cell_type": "markdown",
      "source": [
        "# Convolutional Neural Network"
      ],
      "metadata": {
        "id": "cGCLgMlzcxPM"
      }
    },
    {
      "cell_type": "code",
      "source": [
        "#build the model\n",
        "cnn = Sequential()\n",
        "\n",
        "cnn.add(Conv2D(filters = 32, kernel_size = (3, 3), activation = 'relu', input_shape = (64, 64, 3)))\n",
        "cnn.add(MaxPooling2D((2, 2), 2))\n",
        "cnn.add(Conv2D(64, (3, 3), activation = 'relu'))\n",
        "cnn.add(MaxPooling2D((2, 2), 2))\n",
        "\n",
        "cnn.add(Flatten())\n",
        "\n",
        "cnn.add(Dense(128, activation = 'relu'))\n",
        "cnn.add(Dense(1, activation = 'sigmoid'))"
      ],
      "metadata": {
        "id": "6jI_w5e6cstI"
      },
      "execution_count": 20,
      "outputs": []
    },
    {
      "cell_type": "code",
      "source": [
        "#compile the model\n",
        "cnn.compile(optimizer = 'adam', loss = 'mse', metrics = ['accuracy'])"
      ],
      "metadata": {
        "id": "QMdfBVJxhAfI"
      },
      "execution_count": 21,
      "outputs": []
    },
    {
      "cell_type": "code",
      "source": [
        "#train the model\n",
        "cnn.fit(x = training_set, validation_data = test_set, epochs = 10)"
      ],
      "metadata": {
        "colab": {
          "base_uri": "https://localhost:8080/"
        },
        "id": "wBaz7ge5hNfg",
        "outputId": "ed1456da-5c23-456b-b67c-e9954a95e42a"
      },
      "execution_count": 22,
      "outputs": [
        {
          "output_type": "stream",
          "name": "stdout",
          "text": [
            "Epoch 1/10\n",
            "250/250 [==============================] - 101s 401ms/step - loss: 0.2401 - accuracy: 0.5780 - val_loss: 0.2143 - val_accuracy: 0.6725\n",
            "Epoch 2/10\n",
            "250/250 [==============================] - 112s 448ms/step - loss: 0.2048 - accuracy: 0.6861 - val_loss: 0.2047 - val_accuracy: 0.6780\n",
            "Epoch 3/10\n",
            "250/250 [==============================] - 102s 405ms/step - loss: 0.1919 - accuracy: 0.7092 - val_loss: 0.1789 - val_accuracy: 0.7355\n",
            "Epoch 4/10\n",
            "250/250 [==============================] - 88s 352ms/step - loss: 0.1786 - accuracy: 0.7300 - val_loss: 0.1685 - val_accuracy: 0.7480\n",
            "Epoch 5/10\n",
            "250/250 [==============================] - 86s 345ms/step - loss: 0.1687 - accuracy: 0.7514 - val_loss: 0.1736 - val_accuracy: 0.7470\n",
            "Epoch 6/10\n",
            "250/250 [==============================] - 89s 354ms/step - loss: 0.1635 - accuracy: 0.7600 - val_loss: 0.1623 - val_accuracy: 0.7640\n",
            "Epoch 7/10\n",
            "250/250 [==============================] - 86s 343ms/step - loss: 0.1537 - accuracy: 0.7754 - val_loss: 0.1605 - val_accuracy: 0.7675\n",
            "Epoch 8/10\n",
            "250/250 [==============================] - 91s 363ms/step - loss: 0.1483 - accuracy: 0.7870 - val_loss: 0.1596 - val_accuracy: 0.7685\n",
            "Epoch 9/10\n",
            "250/250 [==============================] - 86s 344ms/step - loss: 0.1478 - accuracy: 0.7896 - val_loss: 0.1535 - val_accuracy: 0.7810\n",
            "Epoch 10/10\n",
            "250/250 [==============================] - 90s 358ms/step - loss: 0.1410 - accuracy: 0.7985 - val_loss: 0.1661 - val_accuracy: 0.7670\n"
          ]
        },
        {
          "output_type": "execute_result",
          "data": {
            "text/plain": [
              "<keras.callbacks.History at 0x7f435f8f8340>"
            ]
          },
          "metadata": {},
          "execution_count": 22
        }
      ]
    },
    {
      "cell_type": "markdown",
      "source": [
        "# Prediction"
      ],
      "metadata": {
        "id": "7J2HTVJ_iqxH"
      }
    },
    {
      "cell_type": "code",
      "source": [
        "#predict whether the image is a cat or a dog\n",
        "test_image = image.load_img('/tmp/CatDog/cnn-image-classification-master/dataset/single_prediction/cat_or_dog_1.jpg', target_size = (64, 64, 3))\n",
        "test_image = image.img_to_array(test_image)\n",
        "test_image = np.expand_dims(test_image, axis = 0)\n",
        "result = cnn.predict(test_image)\n",
        "training_set.class_indices\n",
        "if result[0][0] == 1:\n",
        "  prediction = 'dog'\n",
        "else: \n",
        "  prediction = 'cat'"
      ],
      "metadata": {
        "colab": {
          "base_uri": "https://localhost:8080/"
        },
        "id": "_yp-8BwTiuwk",
        "outputId": "afe36107-9f75-438f-b7ab-115383690250"
      },
      "execution_count": 58,
      "outputs": [
        {
          "output_type": "stream",
          "name": "stdout",
          "text": [
            "1/1 [==============================] - 0s 30ms/step\n"
          ]
        }
      ]
    },
    {
      "cell_type": "code",
      "source": [
        "print(prediction)"
      ],
      "metadata": {
        "colab": {
          "base_uri": "https://localhost:8080/"
        },
        "id": "xFTSZOWKjYOv",
        "outputId": "b8e4b101-af98-4127-b6f4-ece1886e05c7"
      },
      "execution_count": 59,
      "outputs": [
        {
          "output_type": "stream",
          "name": "stdout",
          "text": [
            "dog\n"
          ]
        }
      ]
    }
  ]
}