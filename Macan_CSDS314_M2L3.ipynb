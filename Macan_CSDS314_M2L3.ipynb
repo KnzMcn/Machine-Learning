{
 "cells": [
  {
   "cell_type": "markdown",
   "id": "76e3c3d9",
   "metadata": {},
   "source": [
    "**Instructions:** Explore and try to implement the CAP curve and ROC curve in Python\n",
    "using the classification models that we have discussed and using some dataset from the UCI machine learning repository."
   ]
  },
  {
   "cell_type": "markdown",
   "id": "16f50dae",
   "metadata": {},
   "source": [
    "# Import the necessities"
   ]
  },
  {
   "cell_type": "code",
   "execution_count": 2,
   "id": "c7f5d38f",
   "metadata": {},
   "outputs": [],
   "source": [
    "#Import the libraries\n",
    "import pandas as pd\n",
    "import numpy as np\n",
    "import matplotlib.pyplot as plt"
   ]
  },
  {
   "cell_type": "code",
   "execution_count": 57,
   "id": "37fc361b",
   "metadata": {},
   "outputs": [],
   "source": [
    "#Import the machine learning libraries\n",
    "from sklearn.metrics import roc_curve, auc, confusion_matrix, accuracy_score\n",
    "from sklearn.linear_model import LogisticRegression\n",
    "from sklearn.neighbors import KNeighborsClassifier\n",
    "from sklearn.svm import SVC\n",
    "from sklearn.preprocessing import StandardScaler\n",
    "from sklearn.model_selection import train_test_split\n",
    "from sklearn.pipeline import make_pipeline"
   ]
  },
  {
   "cell_type": "code",
   "execution_count": 17,
   "id": "995a0bfc",
   "metadata": {},
   "outputs": [
    {
     "data": {
      "text/html": [
       "<div>\n",
       "<style scoped>\n",
       "    .dataframe tbody tr th:only-of-type {\n",
       "        vertical-align: middle;\n",
       "    }\n",
       "\n",
       "    .dataframe tbody tr th {\n",
       "        vertical-align: top;\n",
       "    }\n",
       "\n",
       "    .dataframe thead th {\n",
       "        text-align: right;\n",
       "    }\n",
       "</style>\n",
       "<table border=\"1\" class=\"dataframe\">\n",
       "  <thead>\n",
       "    <tr style=\"text-align: right;\">\n",
       "      <th></th>\n",
       "      <th>0</th>\n",
       "      <th>1</th>\n",
       "      <th>2</th>\n",
       "      <th>3</th>\n",
       "      <th>4</th>\n",
       "    </tr>\n",
       "  </thead>\n",
       "  <tbody>\n",
       "    <tr>\n",
       "      <th>0</th>\n",
       "      <td>3.62160</td>\n",
       "      <td>8.6661</td>\n",
       "      <td>-2.8073</td>\n",
       "      <td>-0.44699</td>\n",
       "      <td>0</td>\n",
       "    </tr>\n",
       "    <tr>\n",
       "      <th>1</th>\n",
       "      <td>4.54590</td>\n",
       "      <td>8.1674</td>\n",
       "      <td>-2.4586</td>\n",
       "      <td>-1.46210</td>\n",
       "      <td>0</td>\n",
       "    </tr>\n",
       "    <tr>\n",
       "      <th>2</th>\n",
       "      <td>3.86600</td>\n",
       "      <td>-2.6383</td>\n",
       "      <td>1.9242</td>\n",
       "      <td>0.10645</td>\n",
       "      <td>0</td>\n",
       "    </tr>\n",
       "    <tr>\n",
       "      <th>3</th>\n",
       "      <td>3.45660</td>\n",
       "      <td>9.5228</td>\n",
       "      <td>-4.0112</td>\n",
       "      <td>-3.59440</td>\n",
       "      <td>0</td>\n",
       "    </tr>\n",
       "    <tr>\n",
       "      <th>4</th>\n",
       "      <td>0.32924</td>\n",
       "      <td>-4.4552</td>\n",
       "      <td>4.5718</td>\n",
       "      <td>-0.98880</td>\n",
       "      <td>0</td>\n",
       "    </tr>\n",
       "  </tbody>\n",
       "</table>\n",
       "</div>"
      ],
      "text/plain": [
       "         0       1       2        3  4\n",
       "0  3.62160  8.6661 -2.8073 -0.44699  0\n",
       "1  4.54590  8.1674 -2.4586 -1.46210  0\n",
       "2  3.86600 -2.6383  1.9242  0.10645  0\n",
       "3  3.45660  9.5228 -4.0112 -3.59440  0\n",
       "4  0.32924 -4.4552  4.5718 -0.98880  0"
      ]
     },
     "execution_count": 17,
     "metadata": {},
     "output_type": "execute_result"
    }
   ],
   "source": [
    "#Import the dataset\n",
    "dataset = pd.read_csv('https://archive.ics.uci.edu/ml/machine-learning-databases/00267/data_banknote_authentication.txt', \n",
    "                      header = None)\n",
    "dataset.head()"
   ]
  },
  {
   "cell_type": "code",
   "execution_count": 5,
   "id": "817afe1b",
   "metadata": {},
   "outputs": [
    {
     "data": {
      "text/plain": [
       "(100, 10)"
      ]
     },
     "execution_count": 5,
     "metadata": {},
     "output_type": "execute_result"
    }
   ],
   "source": [
    "dataset.shape"
   ]
  },
  {
   "cell_type": "code",
   "execution_count": 18,
   "id": "7201f6b8",
   "metadata": {},
   "outputs": [
    {
     "data": {
      "text/html": [
       "<div>\n",
       "<style scoped>\n",
       "    .dataframe tbody tr th:only-of-type {\n",
       "        vertical-align: middle;\n",
       "    }\n",
       "\n",
       "    .dataframe tbody tr th {\n",
       "        vertical-align: top;\n",
       "    }\n",
       "\n",
       "    .dataframe thead th {\n",
       "        text-align: right;\n",
       "    }\n",
       "</style>\n",
       "<table border=\"1\" class=\"dataframe\">\n",
       "  <thead>\n",
       "    <tr style=\"text-align: right;\">\n",
       "      <th></th>\n",
       "      <th>variance</th>\n",
       "      <th>skewness</th>\n",
       "      <th>curtosis</th>\n",
       "      <th>entropy</th>\n",
       "      <th>class</th>\n",
       "    </tr>\n",
       "  </thead>\n",
       "  <tbody>\n",
       "    <tr>\n",
       "      <th>0</th>\n",
       "      <td>3.62160</td>\n",
       "      <td>8.6661</td>\n",
       "      <td>-2.8073</td>\n",
       "      <td>-0.44699</td>\n",
       "      <td>0</td>\n",
       "    </tr>\n",
       "    <tr>\n",
       "      <th>1</th>\n",
       "      <td>4.54590</td>\n",
       "      <td>8.1674</td>\n",
       "      <td>-2.4586</td>\n",
       "      <td>-1.46210</td>\n",
       "      <td>0</td>\n",
       "    </tr>\n",
       "    <tr>\n",
       "      <th>2</th>\n",
       "      <td>3.86600</td>\n",
       "      <td>-2.6383</td>\n",
       "      <td>1.9242</td>\n",
       "      <td>0.10645</td>\n",
       "      <td>0</td>\n",
       "    </tr>\n",
       "    <tr>\n",
       "      <th>3</th>\n",
       "      <td>3.45660</td>\n",
       "      <td>9.5228</td>\n",
       "      <td>-4.0112</td>\n",
       "      <td>-3.59440</td>\n",
       "      <td>0</td>\n",
       "    </tr>\n",
       "    <tr>\n",
       "      <th>4</th>\n",
       "      <td>0.32924</td>\n",
       "      <td>-4.4552</td>\n",
       "      <td>4.5718</td>\n",
       "      <td>-0.98880</td>\n",
       "      <td>0</td>\n",
       "    </tr>\n",
       "  </tbody>\n",
       "</table>\n",
       "</div>"
      ],
      "text/plain": [
       "   variance  skewness  curtosis  entropy  class\n",
       "0   3.62160    8.6661   -2.8073 -0.44699      0\n",
       "1   4.54590    8.1674   -2.4586 -1.46210      0\n",
       "2   3.86600   -2.6383    1.9242  0.10645      0\n",
       "3   3.45660    9.5228   -4.0112 -3.59440      0\n",
       "4   0.32924   -4.4552    4.5718 -0.98880      0"
      ]
     },
     "execution_count": 18,
     "metadata": {},
     "output_type": "execute_result"
    }
   ],
   "source": [
    "#add column names\n",
    "dataset.columns = ['variance', 'skewness', 'curtosis', 'entropy', 'class']\n",
    "dataset.head()"
   ]
  },
  {
   "cell_type": "code",
   "execution_count": 7,
   "id": "a25b348a",
   "metadata": {},
   "outputs": [],
   "source": [
    "#split into features and target values\n",
    "X = dataset.drop('diagnosis', axis = 1)\n",
    "y = dataset['diagnosis'].values"
   ]
  },
  {
   "cell_type": "code",
   "execution_count": 19,
   "id": "bd553c58",
   "metadata": {},
   "outputs": [],
   "source": [
    "#split into features and target values\n",
    "X = dataset.drop('class', axis = 1)\n",
    "y = dataset['class'].values"
   ]
  },
  {
   "cell_type": "code",
   "execution_count": 20,
   "id": "152a6cb8",
   "metadata": {},
   "outputs": [
    {
     "data": {
      "text/html": [
       "<div>\n",
       "<style scoped>\n",
       "    .dataframe tbody tr th:only-of-type {\n",
       "        vertical-align: middle;\n",
       "    }\n",
       "\n",
       "    .dataframe tbody tr th {\n",
       "        vertical-align: top;\n",
       "    }\n",
       "\n",
       "    .dataframe thead th {\n",
       "        text-align: right;\n",
       "    }\n",
       "</style>\n",
       "<table border=\"1\" class=\"dataframe\">\n",
       "  <thead>\n",
       "    <tr style=\"text-align: right;\">\n",
       "      <th></th>\n",
       "      <th>variance</th>\n",
       "      <th>skewness</th>\n",
       "      <th>curtosis</th>\n",
       "      <th>entropy</th>\n",
       "    </tr>\n",
       "  </thead>\n",
       "  <tbody>\n",
       "    <tr>\n",
       "      <th>0</th>\n",
       "      <td>3.62160</td>\n",
       "      <td>8.6661</td>\n",
       "      <td>-2.8073</td>\n",
       "      <td>-0.44699</td>\n",
       "    </tr>\n",
       "    <tr>\n",
       "      <th>1</th>\n",
       "      <td>4.54590</td>\n",
       "      <td>8.1674</td>\n",
       "      <td>-2.4586</td>\n",
       "      <td>-1.46210</td>\n",
       "    </tr>\n",
       "    <tr>\n",
       "      <th>2</th>\n",
       "      <td>3.86600</td>\n",
       "      <td>-2.6383</td>\n",
       "      <td>1.9242</td>\n",
       "      <td>0.10645</td>\n",
       "    </tr>\n",
       "    <tr>\n",
       "      <th>3</th>\n",
       "      <td>3.45660</td>\n",
       "      <td>9.5228</td>\n",
       "      <td>-4.0112</td>\n",
       "      <td>-3.59440</td>\n",
       "    </tr>\n",
       "    <tr>\n",
       "      <th>4</th>\n",
       "      <td>0.32924</td>\n",
       "      <td>-4.4552</td>\n",
       "      <td>4.5718</td>\n",
       "      <td>-0.98880</td>\n",
       "    </tr>\n",
       "  </tbody>\n",
       "</table>\n",
       "</div>"
      ],
      "text/plain": [
       "   variance  skewness  curtosis  entropy\n",
       "0   3.62160    8.6661   -2.8073 -0.44699\n",
       "1   4.54590    8.1674   -2.4586 -1.46210\n",
       "2   3.86600   -2.6383    1.9242  0.10645\n",
       "3   3.45660    9.5228   -4.0112 -3.59440\n",
       "4   0.32924   -4.4552    4.5718 -0.98880"
      ]
     },
     "execution_count": 20,
     "metadata": {},
     "output_type": "execute_result"
    }
   ],
   "source": [
    "#print the X values\n",
    "X.head()"
   ]
  },
  {
   "cell_type": "code",
   "execution_count": 21,
   "id": "c4f92abb",
   "metadata": {},
   "outputs": [
    {
     "name": "stdout",
     "output_type": "stream",
     "text": [
      "[0 0 0 ... 1 1 1]\n"
     ]
    }
   ],
   "source": [
    "#print the y values\n",
    "print(y)"
   ]
  },
  {
   "cell_type": "markdown",
   "id": "2dd4e2e2",
   "metadata": {},
   "source": [
    "# Feature Scaling"
   ]
  },
  {
   "cell_type": "code",
   "execution_count": 23,
   "id": "422ff3c0",
   "metadata": {},
   "outputs": [
    {
     "data": {
      "text/html": [
       "<div>\n",
       "<style scoped>\n",
       "    .dataframe tbody tr th:only-of-type {\n",
       "        vertical-align: middle;\n",
       "    }\n",
       "\n",
       "    .dataframe tbody tr th {\n",
       "        vertical-align: top;\n",
       "    }\n",
       "\n",
       "    .dataframe thead th {\n",
       "        text-align: right;\n",
       "    }\n",
       "</style>\n",
       "<table border=\"1\" class=\"dataframe\">\n",
       "  <thead>\n",
       "    <tr style=\"text-align: right;\">\n",
       "      <th></th>\n",
       "      <th>variance</th>\n",
       "      <th>skewness</th>\n",
       "      <th>curtosis</th>\n",
       "      <th>entropy</th>\n",
       "    </tr>\n",
       "  </thead>\n",
       "  <tbody>\n",
       "    <tr>\n",
       "      <th>0</th>\n",
       "      <td>1.121806</td>\n",
       "      <td>1.149455</td>\n",
       "      <td>-0.975970</td>\n",
       "      <td>0.354561</td>\n",
       "    </tr>\n",
       "    <tr>\n",
       "      <th>1</th>\n",
       "      <td>1.447066</td>\n",
       "      <td>1.064453</td>\n",
       "      <td>-0.895036</td>\n",
       "      <td>-0.128767</td>\n",
       "    </tr>\n",
       "    <tr>\n",
       "      <th>2</th>\n",
       "      <td>1.207810</td>\n",
       "      <td>-0.777352</td>\n",
       "      <td>0.122218</td>\n",
       "      <td>0.618073</td>\n",
       "    </tr>\n",
       "    <tr>\n",
       "      <th>3</th>\n",
       "      <td>1.063742</td>\n",
       "      <td>1.295478</td>\n",
       "      <td>-1.255397</td>\n",
       "      <td>-1.144029</td>\n",
       "    </tr>\n",
       "    <tr>\n",
       "      <th>4</th>\n",
       "      <td>-0.036772</td>\n",
       "      <td>-1.087038</td>\n",
       "      <td>0.736730</td>\n",
       "      <td>0.096587</td>\n",
       "    </tr>\n",
       "  </tbody>\n",
       "</table>\n",
       "</div>"
      ],
      "text/plain": [
       "   variance  skewness  curtosis   entropy\n",
       "0  1.121806  1.149455 -0.975970  0.354561\n",
       "1  1.447066  1.064453 -0.895036 -0.128767\n",
       "2  1.207810 -0.777352  0.122218  0.618073\n",
       "3  1.063742  1.295478 -1.255397 -1.144029\n",
       "4 -0.036772 -1.087038  0.736730  0.096587"
      ]
     },
     "execution_count": 23,
     "metadata": {},
     "output_type": "execute_result"
    }
   ],
   "source": [
    "sc = StandardScaler()\n",
    "X_sc = sc.fit_transform(X, y)\n",
    "\n",
    "#display the standardized columns\n",
    "X_sc = pd.DataFrame(X_sc, columns = X.columns)\n",
    "X_sc.head()"
   ]
  },
  {
   "cell_type": "markdown",
   "id": "c58bf0bc",
   "metadata": {},
   "source": [
    "# Split the dataset"
   ]
  },
  {
   "cell_type": "code",
   "execution_count": 24,
   "id": "62caa9c1",
   "metadata": {},
   "outputs": [],
   "source": [
    "X_train, X_test, y_train, y_test = train_test_split(X, y, test_size = 0.20, random_state = 5, stratify = y)"
   ]
  },
  {
   "cell_type": "markdown",
   "id": "a1881170",
   "metadata": {},
   "source": [
    "# Logistic Regression"
   ]
  },
  {
   "cell_type": "code",
   "execution_count": 65,
   "id": "d72d029a",
   "metadata": {},
   "outputs": [
    {
     "name": "stdout",
     "output_type": "stream",
     "text": [
      "[[152   1]\n",
      " [  0 122]]\n",
      "0.99636\n"
     ]
    }
   ],
   "source": [
    "#instantiate\n",
    "logreg = LogisticRegression()\n",
    "logreg.fit(X_train, y_train)\n",
    "\n",
    "#predict\n",
    "logreg_pred = logreg.predict(X_test)\n",
    "\n",
    "#evaluate\n",
    "print(confusion_matrix(y_test, logreg_pred))\n",
    "print(\"{0:.5}\".format(accuracy_score(y_test, logreg_pred)))"
   ]
  },
  {
   "cell_type": "code",
   "execution_count": 71,
   "id": "4549ebbd",
   "metadata": {},
   "outputs": [
    {
     "data": {
      "image/png": "[encoded data removed]",
      "text/plain": [
       "<Figure size 432x288 with 1 Axes>"
      ]
     },
     "metadata": {
      "needs_background": "light"
     },
     "output_type": "display_data"
    }
   ],
   "source": [
    "#roc\n",
    "fpr, tpr, threshold = roc_curve(y_test, logreg_pred)\n",
    "roc_auc = auc(fpr, tpr)\n",
    "\n",
    "#visualization\n",
    "plt.plot([0,1], [0,1], 'k--')\n",
    "plt.plot(fpr, tpr)\n",
    "plt.xlabel('False Positive Rate')\n",
    "plt.ylabel('True Positive Rate')\n",
    "plt.title('ROC Curve with Logistic Regression')\n",
    "plt.show()"
   ]
  },
  {
   "cell_type": "code",
   "execution_count": 67,
   "id": "9fcc6572",
   "metadata": {},
   "outputs": [],
   "source": [
    "#cap\n",
    "#count the numbers for each class\n",
    "total = len(y_test)\n",
    "class_1_count = np.sum(y_test)\n",
    "class_2_count = total - class_1_count"
   ]
  },
  {
   "cell_type": "code",
   "execution_count": 81,
   "id": "4bdd82cb",
   "metadata": {},
   "outputs": [],
   "source": [
    "#calculate probability of results\n",
    "logreg_probs = logreg.predict_proba(X_test)\n",
    "logreg_probs = logreg_probs[:,1]\n",
    "model_y = [y for _, y in sorted(zip(logreg_probs, y_test), reverse = True)]\n",
    "y_values = np.append([0], np.cumsum(model_y))\n",
    "x_values = np.arange(0, total + 1)"
   ]
  },
  {
   "cell_type": "code",
   "execution_count": 80,
   "id": "ef55ba47",
   "metadata": {},
   "outputs": [
    {
     "data": {
      "image/png": "[encoded data removed]",
      "text/plain": [
       "<Figure size 432x288 with 1 Axes>"
      ]
     },
     "metadata": {
      "needs_background": "light"
     },
     "output_type": "display_data"
    }
   ],
   "source": [
    "#visualization for cap\n",
    "#random model\n",
    "plt.plot([0, total], \n",
    "         [0, class_1_count], \n",
    "         c = 'r', \n",
    "         linestyle = '--', \n",
    "         label = 'Random Model')\n",
    "\n",
    "#perfect model\n",
    "plt.plot([0, class_1_count, total],\n",
    "        [0, class_1_count, class_1_count],\n",
    "        c = 'grey',\n",
    "        label = 'Pefect Model')\n",
    "\n",
    "#linear regression model\n",
    "plt.plot(x_values, \n",
    "         y_values,\n",
    "        c = 'b', \n",
    "        label = 'Logistic Regression Classifier')\n",
    "\n",
    "#design\n",
    "plt.xlabel('Total Observations')\n",
    "plt.ylabel('Class 1 Observations')\n",
    "plt.title('Cumulative Accuracy Profile')\n",
    "plt.legend(loc = 'lower right')\n",
    "plt.show()"
   ]
  },
  {
   "cell_type": "markdown",
   "id": "74ce38c1",
   "metadata": {},
   "source": [
    "# Knn"
   ]
  },
  {
   "cell_type": "code",
   "execution_count": 55,
   "id": "337b69ef",
   "metadata": {},
   "outputs": [
    {
     "name": "stdout",
     "output_type": "stream",
     "text": [
      "[[151   2]\n",
      " [  0 122]]\n",
      "0.99273\n"
     ]
    }
   ],
   "source": [
    "#instantiate\n",
    "knn = KNeighborsClassifier(n_neighbors = 15)\n",
    "knn.fit(X_train, y_train)\n",
    "\n",
    "#predict\n",
    "knn_pred = knn.predict(X_test)\n",
    "\n",
    "#evaluate\n",
    "print(confusion_matrix(y_test, knn_pred))\n",
    "print(\"{0:.5}\".format(accuracy_score(y_test, knn_pred)))"
   ]
  },
  {
   "cell_type": "code",
   "execution_count": 56,
   "id": "319ef3fc",
   "metadata": {},
   "outputs": [
    {
     "data": {
      "image/png": "[encoded data removed]",
      "text/plain": [
       "<Figure size 432x288 with 1 Axes>"
      ]
     },
     "metadata": {
      "needs_background": "light"
     },
     "output_type": "display_data"
    }
   ],
   "source": [
    "#roc\n",
    "fpr, tpr, threshold = roc_curve(y_test, knn_pred)\n",
    "roc_auc = auc(fpr, tpr)\n",
    "\n",
    "#visualization\n",
    "plt.plot([0,1], [0,1], 'k--')\n",
    "plt.plot(fpr, tpr)\n",
    "plt.xlabel('False Positive Rate')\n",
    "plt.ylabel('True Positive Rate')\n",
    "plt.title('ROC Curve with KNN')\n",
    "plt.show()"
   ]
  },
  {
   "cell_type": "code",
   "execution_count": 82,
   "id": "914ba13d",
   "metadata": {},
   "outputs": [],
   "source": [
    "#use the count from logistic regression\n",
    "#calculate probability of results\n",
    "knn_probs = knn.predict_proba(X_test)\n",
    "knn_probs = knn_probs[:,1]\n",
    "model_y = [y for _, y in sorted(zip(knn_probs, y_test), reverse = True)]\n",
    "y_values = np.append([0], np.cumsum(model_y))\n",
    "x_values = np.arange(0, total + 1)"
   ]
  },
  {
   "cell_type": "code",
   "execution_count": 83,
   "id": "c2723462",
   "metadata": {},
   "outputs": [
    {
     "data": {
      "image/png": "[encoded data removed]",
      "text/plain": [
       "<Figure size 432x288 with 1 Axes>"
      ]
     },
     "metadata": {
      "needs_background": "light"
     },
     "output_type": "display_data"
    }
   ],
   "source": [
    "#visualization for cap\n",
    "#random model\n",
    "plt.plot([0, total], \n",
    "         [0, class_1_count], \n",
    "         c = 'r', \n",
    "         linestyle = '--', \n",
    "         label = 'Random Model')\n",
    "\n",
    "#perfect model\n",
    "plt.plot([0, class_1_count, total],\n",
    "        [0, class_1_count, class_1_count],\n",
    "        c = 'grey',\n",
    "        label = 'Pefect Model')\n",
    "\n",
    "#linear regression model\n",
    "plt.plot(x_values, \n",
    "         y_values,\n",
    "        c = 'b', \n",
    "        label = 'KNeighbors Classifier')\n",
    "\n",
    "#design\n",
    "plt.xlabel('Total Observations')\n",
    "plt.ylabel('Class 1 Observations')\n",
    "plt.title('Cumulative Accuracy Profile')\n",
    "plt.legend(loc = 'lower right')\n",
    "plt.show()"
   ]
  },
  {
   "cell_type": "markdown",
   "id": "8d8dcfef",
   "metadata": {},
   "source": [
    "# Support Vector Machines"
   ]
  },
  {
   "cell_type": "code",
   "execution_count": 85,
   "id": "b6a553e6",
   "metadata": {},
   "outputs": [
    {
     "name": "stdout",
     "output_type": "stream",
     "text": [
      "[[152   1]\n",
      " [  0 122]]\n",
      "0.99636\n"
     ]
    }
   ],
   "source": [
    "#instantiate\n",
    "vector = SVC(kernel = 'linear', random_state = 0)\n",
    "vector.fit(X_train, y_train)\n",
    "\n",
    "#predict\n",
    "vector_pred = vector.predict(X_test)\n",
    "\n",
    "#evaluate\n",
    "print(confusion_matrix(y_test, vector_pred))\n",
    "print(\"{0:.5}\".format(accuracy_score(y_test, vector_pred)))"
   ]
  },
  {
   "cell_type": "code",
   "execution_count": 87,
   "id": "e3d12fcd",
   "metadata": {},
   "outputs": [
    {
     "data": {
      "image/png": "[encoded data removed]",
      "text/plain": [
       "<Figure size 432x288 with 1 Axes>"
      ]
     },
     "metadata": {
      "needs_background": "light"
     },
     "output_type": "display_data"
    }
   ],
   "source": [
    "#roc\n",
    "fpr, tpr, threshold = roc_curve(y_test, vector_pred)\n",
    "roc_auc = auc(fpr, tpr)\n",
    "\n",
    "#visualization\n",
    "plt.plot([0,1], [0,1], 'k--')\n",
    "plt.plot(fpr, tpr)\n",
    "plt.xlabel('False Positive Rate')\n",
    "plt.ylabel('True Positive Rate')\n",
    "plt.title('ROC Curve with SVM')\n",
    "plt.show()"
   ]
  },
  {
   "cell_type": "code",
   "execution_count": 88,
   "id": "b41fd9c0",
   "metadata": {},
   "outputs": [],
   "source": [
    "#use the count from logistic regression\n",
    "#calculate probability of results\n",
    "vector_probs = knn.predict_proba(X_test)\n",
    "vector_probs = vector_probs[:,1]\n",
    "model_y = [y for _, y in sorted(zip(vector_probs, y_test), reverse = True)]\n",
    "y_values = np.append([0], np.cumsum(model_y))\n",
    "x_values = np.arange(0, total + 1)"
   ]
  },
  {
   "cell_type": "code",
   "execution_count": 89,
   "id": "6417ed94",
   "metadata": {},
   "outputs": [
    {
     "data": {
      "image/png": "[encoded data removed]",
      "text/plain": [
       "<Figure size 432x288 with 1 Axes>"
      ]
     },
     "metadata": {
      "needs_background": "light"
     },
     "output_type": "display_data"
    }
   ],
   "source": [
    "#visualization for cap\n",
    "#random model\n",
    "plt.plot([0, total], \n",
    "         [0, class_1_count], \n",
    "         c = 'r', \n",
    "         linestyle = '--', \n",
    "         label = 'Random Model')\n",
    "\n",
    "#perfect model\n",
    "plt.plot([0, class_1_count, total],\n",
    "        [0, class_1_count, class_1_count],\n",
    "        c = 'grey',\n",
    "        label = 'Pefect Model')\n",
    "\n",
    "#linear regression model\n",
    "plt.plot(x_values, \n",
    "         y_values,\n",
    "        c = 'b', \n",
    "        label = 'Support Vector Classifier')\n",
    "\n",
    "#design\n",
    "plt.xlabel('Total Observations')\n",
    "plt.ylabel('Class 1 Observations')\n",
    "plt.title('Cumulative Accuracy Profile')\n",
    "plt.legend(loc = 'lower right')\n",
    "plt.show()"
   ]
  }
 ],
 "metadata": {
  "kernelspec": {
   "display_name": "Python 3 (ipykernel)",
   "language": "python",
   "name": "python3"
  },
  "language_info": {
   "codemirror_mode": {
    "name": "ipython",
    "version": 3
   },
   "file_extension": ".py",
   "mimetype": "text/x-python",
   "name": "python",
   "nbconvert_exporter": "python",
   "pygments_lexer": "ipython3",
   "version": "3.8.10"
  }
 },
 "nbformat": 4,
 "nbformat_minor": 5
}
